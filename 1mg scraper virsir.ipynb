{
 "cells": [
  {
   "cell_type": "code",
   "execution_count": 2,
   "metadata": {},
   "outputs": [],
   "source": [
    "import requests\n",
    "from bs4 import BeautifulSoup\n",
    "import selenium\n",
    "from selenium import webdriver\n",
    "from selenium.webdriver.common.keys import Keys\n",
    "import time\n",
    "from selenium.webdriver.chrome.options import Options\n",
    "import os\n",
    "import urllib.request"
   ]
  },
  {
   "cell_type": "code",
   "execution_count": 3,
   "metadata": {},
   "outputs": [],
   "source": [
    "browser_agent = {'agent' : 'Mozilla/5.0 (Windows NT 6.1) AppleWebKit/537.36 (KHTML, like Gecko) Chrome/80.0.3987.122 Safari/537.36'}"
   ]
  },
  {
   "cell_type": "code",
   "execution_count": null,
   "metadata": {},
   "outputs": [
    {
     "name": "stderr",
     "output_type": "stream",
     "text": [
      "c:\\users\\mcc\\appdata\\local\\programs\\python\\python37-32\\lib\\site-packages\\selenium\\webdriver\\phantomjs\\webdriver.py:49: UserWarning: Selenium support for PhantomJS has been deprecated, please use headless versions of Chrome or Firefox instead\n",
      "  warnings.warn('Selenium support for PhantomJS has been deprecated, please use headless '\n"
     ]
    },
    {
     "name": "stdout",
     "output_type": "stream",
     "text": [
      "19 20 21 22 23 24 25 26 27 28 29 30 31 32 33 34 35 36 "
     ]
    }
   ],
   "source": [
    "for i in range(2,3):#page number\n",
    "    url = f'https://www.1mg.com/categories/diabetes/diabetic-shoes-socks-415?filter=true&pageNumber={i}' #enter url here\n",
    "    result = requests.get(url, headers = browser_agent)\n",
    "    soup = BeautifulSoup(result.content, 'html.parser')\n",
    "\n",
    "    driver = selenium.webdriver.PhantomJS()\n",
    "    dir_path = r'C:\\Users\\mcc\\Desktop\\1mg by client\\diabetic-shoes-socks\\\\' #enter path where you want to save image\n",
    "    if not os.path.exists(dir_path):\n",
    "        os.mkdir(dir_path)\n",
    "    containers = soup.findAll('div', attrs = {'class' : 'col-md-3 col-sm-4 col-xs-6 style__container___1TL2R'})\n",
    "    link_container = []\n",
    "    counter = 18\n",
    "    for container in containers:\n",
    "        link = container.a['href']\n",
    "        link_container.append(link)\n",
    "\n",
    "    for link in link_container[18:]:\n",
    "        path = 'https://www.1mg.com'+link\n",
    "        driver.get(path)\n",
    "\n",
    "    #     time.sleep(5)\n",
    "        with open('diabetic-shoes-socks.csv','a', encoding = 'utf-8') as f: #enter file name\n",
    "\n",
    "            try:\n",
    "                product_name = driver.find_element_by_xpath('/html/body/div[2]/div[1]/div/div/div/div/div/div/div[2]/div[3]/div[1]/div[1]/h1')\n",
    "                product_name_text = (product_name.text.replace(',',' '))\n",
    "            except:\n",
    "                product_name = driver.find_element_by_xpath('/html/body/div[1]/div[1]/div/div/div/div/div/div/div[2]/div[3]/div[1]/div[1]/h1')\n",
    "                product_name_text = (product_name.text.replace(',',' '))\n",
    "\n",
    "            try:\n",
    "                brand_name = driver.find_element_by_xpath('/html/body/div[2]/div[1]/div/div/div/div/div/div/div[2]/div[3]/div[1]/div[2]/a')\n",
    "                brand_name_text = (brand_name.text.replace(',',' '))\n",
    "            except:\n",
    "                brand_name = driver.find_element_by_xpath('/html/body/div[1]/div[1]/div/div/div/div/div/div/div[2]/div[3]/div[1]/div[2]/a')\n",
    "                brand_name_text = (brand_name.text.replace(',',' '))\n",
    "                \n",
    "            try:\n",
    "                discount = driver.find_element_by_xpath('/html/body/div[2]/div[1]/div/div/div/div/div/div/div[2]/div[4]/div[1]/div/div[2]/div[1]/div/span[3]').text().replace(',','')\n",
    "            except:\n",
    "                discount = ''\n",
    "\n",
    "            try:\n",
    "                product_highlights = driver.find_element_by_xpath('/html/body/div[2]/div[1]/div/div/div/div/div/div/div[2]/div[3]/div[2]')\n",
    "                product_highlights_te = (product_highlights.text.replace('\\n','<br>'))\n",
    "                product_highlights_text = product_highlights_te.replace(',', '-')\n",
    "            except:\n",
    "                try:\n",
    "                    product_highlights = driver.find_element_by_xpath('/html/body/div[2]/div[1]/div/div/div/div/div/div/div[2]/div[3]/div[2]')\n",
    "                    product_highlights_te = (product_highlights.text.replace('\\n','<br>'))\n",
    "                    product_highlights_text = product_highlights_te.replace(',', '-')\n",
    "                except:\n",
    "                    product_highlights_text = ''\n",
    "\n",
    "            try:\n",
    "                regular_price = driver.find_element_by_xpath('/html/body/div[2]/div[1]/div/div/div/div/div/div/div[2]/div[4]/div[1]/div/div[2]/div[1]/div/span[2]')\n",
    "                regular_price_text = (regular_price.text.split('₹')[1])\n",
    "            except:\n",
    "                try:\n",
    "                    regular_price = driver.find_element_by_xpath('/html/body/div[2]/div[1]/div/div/div/div/div/div/div[2]/div[4]/div[1]/div/div/div[1]/div')\n",
    "                    regular_price_text = (regular_price.text.split('₹')[1])\n",
    "                except:\n",
    "                    regural_price_text = ''\n",
    "            try:\n",
    "                special_price = driver.find_element_by_xpath('/html/body/div[2]/div[1]/div/div/div/div/div/div/div[2]/div[4]/div[1]/div/div[2]/div[2]/div')\n",
    "                special_price_text = (special_price.text.split('₹')[1])\n",
    "            except:\n",
    "                special_price_text = ''\n",
    "\n",
    "            try:\n",
    "                pack_of = driver.find_element_by_xpath('/html/body/div[2]/div[1]/div/div/div/div/div/div/div[2]/div[4]/div[1]/div/div[2]/div[3]/div/span[3]')\n",
    "                pack_of_text = (pack_of.text.replace(',',' '))\n",
    "            except:\n",
    "                try:\n",
    "                    pack_of = driver.find_element_by_xpath('/html/body/div[2]/div[1]/div/div/div/div/div/div/div[2]/div[4]/div[1]/div/div[2]/div[2]/div/span[3]')\n",
    "                    pack_of_text = (pack_of.text.replace(',',' '))\n",
    "                except:\n",
    "                    try:\n",
    "                        pack_of = driver.find_element_by_xpath('/html/body/div[1]/div[1]/div/div/div/div/div/div/div[2]/div[4]/div[1]/div/div[2]/div[3]/div/span[3]')\n",
    "                        pack_of_text = (pack_of.text.replace(',',' '))\n",
    "                    except:\n",
    "                        pack_of_text = ''\n",
    "\n",
    "\n",
    "            try:\n",
    "                ratings = driver.find_element_by_xpath('/html/body/div[2]/div[1]/div/div/div/div/div/div/div[2]/div[3]/div[1]/div[3]/div/span')\n",
    "                ratings_text = (ratings.text.split('.')[0])\n",
    "            except:\n",
    "                ratings_text = ''\n",
    "\n",
    "            try:\n",
    "                product_description = driver.find_element_by_xpath('/html/body/div[2]/div[1]/div/div/div/div/div/div/div[3]/div[1]/div[1]')\n",
    "                pro_des = (product_description.text.replace('\\n','<br>'))\n",
    "                pro_des_text = pro_des.replace(',','-')\n",
    "            except:\n",
    "                pro_des_text = ''\n",
    "\n",
    "            img_container = driver.find_elements_by_class_name('Thumbnail__thumbnail___2AwsV')\n",
    "            for i in range(1, len(img_container)+1):\n",
    "                try:\n",
    "                    images = driver.find_element_by_xpath(f'/html/body/div[2]/div[1]/div/div/div/div/div/div/div[2]/div[2]/div/div[1]/div/div[{i}]/div/img')\n",
    "                except:\n",
    "                    images = driver.find_element_by_xpath(f'/html/body/div[1]/div[1]/div/div/div/div/div/div/div[2]/div[2]/div/div[1]/div/div[{i}]/div/img')\n",
    "                source = images.get_attribute('src')\n",
    "                new_source = source.replace('ignore,w_120,h_120', 'ignore,w_620,h_620')\n",
    "                img_name = f'{product_name_text} {i}.png'\n",
    "                try:\n",
    "                    urllib.request.urlretrieve(new_source, os.path.join(dir_path,img_name))\n",
    "                except:\n",
    "                    pass\n",
    "\n",
    "            f.write(product_name_text + ',' + brand_name_text + ',' + pack_of_text + ',' + regular_price_text + \",\" + special_price_text + ',' + discount + ',' + ratings_text + ',' + product_highlights_text + ',' + pro_des_text + ',' + img_name + '\\n')\n",
    "        counter += 1   \n",
    "        print(counter, end = \" \")\n"
   ]
  },
  {
   "cell_type": "code",
   "execution_count": 6,
   "metadata": {},
   "outputs": [
    {
     "data": {
      "text/plain": [
       "1376"
      ]
     },
     "execution_count": 6,
     "metadata": {},
     "output_type": "execute_result"
    }
   ],
   "source": [
    "662+542+172"
   ]
  },
  {
   "cell_type": "code",
   "execution_count": null,
   "metadata": {},
   "outputs": [],
   "source": []
  }
 ],
 "metadata": {
  "kernelspec": {
   "display_name": "Python 3",
   "language": "python",
   "name": "python3"
  },
  "language_info": {
   "codemirror_mode": {
    "name": "ipython",
    "version": 3
   },
   "file_extension": ".py",
   "mimetype": "text/x-python",
   "name": "python",
   "nbconvert_exporter": "python",
   "pygments_lexer": "ipython3",
   "version": "3.7.3"
  }
 },
 "nbformat": 4,
 "nbformat_minor": 2
}
